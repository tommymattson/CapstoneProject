{
 "cells": [
  {
   "attachments": {},
   "cell_type": "markdown",
   "metadata": {},
   "source": [
    "# Prompt Data Cleaning Tools\n",
    "Thomas Mattson\n",
    "\n",
    "Westmont College - CS-195 Senior Seminar\n",
    "\n",
    "April 29, 2023"
   ]
  },
  {
   "cell_type": "code",
   "execution_count": 9,
   "metadata": {},
   "outputs": [
    {
     "name": "stdout",
     "output_type": "stream",
     "text": [
      "     Channel            ID                                             Prompt  \\\n",
      "0  newbies 3  5.638060e+17  an indian tech nerd dressed like Tom Cruise in...   \n",
      "1  newbies 3  7.755790e+17  art for podcast named Taste Buds that is hoste...   \n",
      "2  newbies 3  1.089050e+18  8k photo realistic great white shark on beach ...   \n",
      "3  newbies 3  4.563840e+17  wide angle full body shot  group of agressive ...   \n",
      "4  newbies 3  1.016100e+18                   artwork by michel granger skull    \n",
      "\n",
      "        Date  \n",
      "0  3/29/2023  \n",
      "1  3/29/2023  \n",
      "2  3/29/2023  \n",
      "3  3/29/2023  \n",
      "4  3/29/2023  \n"
     ]
    }
   ],
   "source": [
    "import pandas as pd\n",
    "\n",
    "# Load the CSV file into a pandas DataFrame\n",
    "df = pd.read_csv('CosineCleanMeLarge.csv')\n",
    "prompts = df['Prompt']\n",
    "\n",
    "# Print the first few rows of the DataFrame to check that it loaded correctly\n",
    "print(df.head())"
   ]
  },
  {
   "attachments": {},
   "cell_type": "markdown",
   "metadata": {},
   "source": [
    "### Cosine Similiarity Score Filtering"
   ]
  },
  {
   "cell_type": "code",
   "execution_count": 14,
   "metadata": {},
   "outputs": [
    {
     "name": "stdout",
     "output_type": "stream",
     "text": [
      "Filtered prompts saved to filtered_prompts_large.csv.\n"
     ]
    }
   ],
   "source": [
    "import pandas as pd\n",
    "from sklearn.feature_extraction.text import TfidfVectorizer\n",
    "from sklearn.metrics.pairwise import cosine_similarity\n",
    "\n",
    "# Create a TF-IDF vectorizer\n",
    "vectorizer = TfidfVectorizer()\n",
    "\n",
    "# Compute the TF-IDF matrix for the prompts\n",
    "tfidf_matrix = vectorizer.fit_transform(prompts)\n",
    "\n",
    "# Compute the cosine similarity matrix\n",
    "cosine_similarities = cosine_similarity(tfidf_matrix)\n",
    "\n",
    "# Define a threshold for similarity score\n",
    "threshold = 0.45\n",
    "\n",
    "# List to store the indices of prompts to be removed\n",
    "indices_to_remove = []\n",
    "\n",
    "# Iterate over each pair of prompts\n",
    "for i in range(len(prompts)):\n",
    "    for j in range(i + 1, len(prompts)):\n",
    "        # If the cosine similarity score is above the threshold, mark the second prompt for removal\n",
    "        if cosine_similarities[i, j] > threshold:\n",
    "            indices_to_remove.append(j)\n",
    "\n",
    "# Remove the similar prompts from the DataFrame\n",
    "df_filtered = df.drop(indices_to_remove)\n",
    "\n",
    "# Save the filtered prompts to a new CSV file\n",
    "output_file = 'filtered_prompts_large.csv'\n",
    "df_filtered.to_csv(output_file, index=False)\n",
    "\n",
    "print(f\"Filtered prompts saved to {output_file}.\")"
   ]
  }
 ],
 "metadata": {
  "kernelspec": {
   "display_name": "Python 3",
   "language": "python",
   "name": "python3"
  },
  "language_info": {
   "codemirror_mode": {
    "name": "ipython",
    "version": 3
   },
   "file_extension": ".py",
   "mimetype": "text/x-python",
   "name": "python",
   "nbconvert_exporter": "python",
   "pygments_lexer": "ipython3",
   "version": "3.10.4"
  },
  "orig_nbformat": 4
 },
 "nbformat": 4,
 "nbformat_minor": 2
}
