{
 "cells": [
  {
   "cell_type": "code",
   "execution_count": 3,
   "metadata": {},
   "outputs": [
    {
     "name": "stdout",
     "output_type": "stream",
     "text": [
      "     Channel                            ID  \\\n",
      "0   newbies3    563,806,429,635,543,000.00   \n",
      "1  newbies-3    775,578,578,561,531,000.00   \n",
      "2  newbies-3  1,089,046,680,424,410,000.00   \n",
      "3  newbies-3    456,383,955,697,008,000.00   \n",
      "4  newbies-3  1,016,095,568,788,990,000.00   \n",
      "\n",
      "                                              Prompt       Date  \n",
      "0  an indian tech nerd dressed like Tom Cruise in...  3/29/2023  \n",
      "1  art for podcast named Taste Buds that is hoste...  3/29/2023  \n",
      "2  8k photo realistic great white shark on beach,...  3/29/2023  \n",
      "3  wide angle full body shot, group of agressive ...  3/29/2023  \n",
      "4                   artwork by michel granger skull-  3/29/2023  \n"
     ]
    }
   ],
   "source": [
    "import pandas as pd\n",
    "\n",
    "# Load the CSV file into a pandas DataFrame\n",
    "df = pd.read_csv('PromptsToAnalyze.csv')\n",
    "prompts = df['Prompt']\n",
    "\n",
    "# Print the first few rows of the DataFrame to check that it loaded correctly\n",
    "print(df.head())"
   ]
  },
  {
   "attachments": {},
   "cell_type": "markdown",
   "metadata": {},
   "source": [
    "## Cosine Similiarity Score Filtering"
   ]
  },
  {
   "cell_type": "code",
   "execution_count": 4,
   "metadata": {},
   "outputs": [
    {
     "name": "stdout",
     "output_type": "stream",
     "text": [
      "Filtered prompts saved to filtered_prompts.csv.\n"
     ]
    }
   ],
   "source": [
    "import pandas as pd\n",
    "from sklearn.feature_extraction.text import TfidfVectorizer\n",
    "from sklearn.metrics.pairwise import cosine_similarity\n",
    "\n",
    "# Create a TF-IDF vectorizer\n",
    "vectorizer = TfidfVectorizer()\n",
    "\n",
    "# Compute the TF-IDF matrix for the prompts\n",
    "tfidf_matrix = vectorizer.fit_transform(prompts)\n",
    "\n",
    "# Compute the cosine similarity matrix\n",
    "cosine_similarities = cosine_similarity(tfidf_matrix)\n",
    "\n",
    "# Define a threshold for similarity score\n",
    "threshold = 0.8\n",
    "\n",
    "# List to store the indices of prompts to be removed\n",
    "indices_to_remove = []\n",
    "\n",
    "# Iterate over each pair of prompts\n",
    "for i in range(len(prompts)):\n",
    "    for j in range(i + 1, len(prompts)):\n",
    "        # If the cosine similarity score is above the threshold, mark the second prompt for removal\n",
    "        if cosine_similarities[i, j] > threshold:\n",
    "            indices_to_remove.append(j)\n",
    "\n",
    "# Remove the similar prompts from the DataFrame\n",
    "df_filtered = df.drop(indices_to_remove)\n",
    "\n",
    "# Save the filtered prompts to a new CSV file\n",
    "output_file = 'filtered_prompts.csv'\n",
    "df_filtered.to_csv(output_file, index=False)\n",
    "\n",
    "print(f\"Filtered prompts saved to {output_file}.\")"
   ]
  }
 ],
 "metadata": {
  "kernelspec": {
   "display_name": "Python 3",
   "language": "python",
   "name": "python3"
  },
  "language_info": {
   "codemirror_mode": {
    "name": "ipython",
    "version": 3
   },
   "file_extension": ".py",
   "mimetype": "text/x-python",
   "name": "python",
   "nbconvert_exporter": "python",
   "pygments_lexer": "ipython3",
   "version": "3.10.4"
  },
  "orig_nbformat": 4
 },
 "nbformat": 4,
 "nbformat_minor": 2
}
