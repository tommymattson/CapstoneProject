{
 "cells": [
  {
   "cell_type": "code",
   "execution_count": 3,
   "metadata": {},
   "outputs": [
    {
     "name": "stdout",
     "output_type": "stream",
     "text": [
      "     Channel                            ID  \\\n",
      "0   newbies3    563,806,429,635,543,000.00   \n",
      "1  newbies-3    775,578,578,561,531,000.00   \n",
      "2  newbies-3  1,089,046,680,424,410,000.00   \n",
      "3  newbies-3    456,383,955,697,008,000.00   \n",
      "4  newbies-3  1,016,095,568,788,990,000.00   \n",
      "\n",
      "                                              Prompt       Date  \n",
      "0  an indian tech nerd dressed like Tom Cruise in...  3/29/2023  \n",
      "1  art for podcast named Taste Buds that is hoste...  3/29/2023  \n",
      "2  8k photo realistic great white shark on beach,...  3/29/2023  \n",
      "3  wide angle full body shot, group of agressive ...  3/29/2023  \n",
      "4                   artwork by michel granger skull-  3/29/2023  \n"
     ]
    }
   ],
   "source": [
    "import pandas as pd\n",
    "\n",
    "# Load the CSV file into a pandas DataFrame\n",
    "df = pd.read_csv('PromptsToAnalyze.csv')\n",
    "prompts = df['Prompt']\n",
    "\n",
    "# Print the first few rows of the DataFrame to check that it loaded correctly\n",
    "print(df.head())"
   ]
  },
  {
   "cell_type": "code",
   "execution_count": null,
   "metadata": {},
   "outputs": [],
   "source": [
    "import nltk\n",
    "import pandas as pd\n",
    "from nltk.sentiment import SentimentIntensityAnalyzer\n",
    "\n",
    "# Download necessary resources\n",
    "nltk.download('vader_lexicon')\n",
    "\n",
    "# Initialize SentimentIntensityAnalyzer\n",
    "sia = SentimentIntensityAnalyzer()\n",
    "\n",
    "# Perform sentiment analysis for each prompt\n",
    "sentiment_scores = []\n",
    "for prompt in prompts:\n",
    "    scores = sia.polarity_scores(prompt)\n",
    "    sentiment_scores.append(scores)\n",
    "\n",
    "# Create a new DataFrame with the sentiment scores\n",
    "output_data = df.copy()\n",
    "output_data['Positive'] = [score['pos'] for score in sentiment_scores]\n",
    "output_data['Negative'] = [score['neg'] for score in sentiment_scores]\n",
    "output_data['Neutral'] = [score['neu'] for score in sentiment_scores]\n",
    "output_data['Compound'] = [score['compound'] for score in sentiment_scores]\n",
    "\n",
    "# Write the output DataFrame to a new CSV file\n",
    "output_data.to_csv('your_output_file.csv', index=False)\n"
   ]
  },
  {
   "cell_type": "code",
   "execution_count": 2,
   "metadata": {},
   "outputs": [
    {
     "name": "stderr",
     "output_type": "stream",
     "text": [
      "[nltk_data] Downloading package punkt to\n",
      "[nltk_data]     C:\\Users\\tdmat\\AppData\\Roaming\\nltk_data...\n",
      "[nltk_data]   Package punkt is already up-to-date!\n",
      "[nltk_data] Downloading package stopwords to\n",
      "[nltk_data]     C:\\Users\\tdmat\\AppData\\Roaming\\nltk_data...\n",
      "[nltk_data]   Package stopwords is already up-to-date!\n"
     ]
    },
    {
     "name": "stdout",
     "output_type": "stream",
     "text": [
      "Word frequencies saved to word_frequencies.csv.\n"
     ]
    }
   ],
   "source": [
    "import nltk\n",
    "from nltk.tokenize import word_tokenize\n",
    "from nltk.corpus import stopwords\n",
    "from collections import Counter\n",
    "import csv\n",
    "import pandas as pd\n",
    "\n",
    "# Download necessary resources\n",
    "nltk.download('punkt')\n",
    "nltk.download('stopwords')\n",
    "\n",
    "# Tokenize the prompts, remove stopwords, and count word frequencies\n",
    "tokenized_words = []\n",
    "for prompt in prompts:\n",
    "    tokenized_text = [word.lower() for word in word_tokenize(prompt)]\n",
    "    stop_words = set(stopwords.words('english'))\n",
    "    filtered_words = [word for word in tokenized_text if word not in stop_words]\n",
    "    tokenized_words.extend(filtered_words)\n",
    "\n",
    "word_freq = Counter(tokenized_words)\n",
    "\n",
    "# Sort word frequencies in descending order\n",
    "sorted_word_freq = sorted(word_freq.items(), key=lambda x: x[1], reverse=True)\n",
    "\n",
    "# Define the output file path\n",
    "output_file = 'word_frequencies.csv'\n",
    "\n",
    "# Open the CSV file for writing\n",
    "with open(output_file, 'w', newline='') as file:\n",
    "    writer = csv.writer(file)\n",
    "\n",
    "    # Write the header row\n",
    "    writer.writerow(['Word', 'Frequency'])\n",
    "\n",
    "    # Write the word frequencies to the CSV file\n",
    "    for word, freq in sorted_word_freq:\n",
    "        writer.writerow([word, freq])\n",
    "\n",
    "print(f\"Word frequencies saved to {output_file}.\")\n"
   ]
  },
  {
   "cell_type": "code",
   "execution_count": 4,
   "metadata": {},
   "outputs": [
    {
     "name": "stdout",
     "output_type": "stream",
     "text": [
      "Filtered prompts saved to filtered_prompts.csv.\n"
     ]
    }
   ],
   "source": [
    "import pandas as pd\n",
    "from sklearn.feature_extraction.text import TfidfVectorizer\n",
    "from sklearn.metrics.pairwise import cosine_similarity\n",
    "\n",
    "# Create a TF-IDF vectorizer\n",
    "vectorizer = TfidfVectorizer()\n",
    "\n",
    "# Compute the TF-IDF matrix for the prompts\n",
    "tfidf_matrix = vectorizer.fit_transform(prompts)\n",
    "\n",
    "# Compute the cosine similarity matrix\n",
    "cosine_similarities = cosine_similarity(tfidf_matrix)\n",
    "\n",
    "# Define a threshold for similarity score\n",
    "threshold = 0.8\n",
    "\n",
    "# List to store the indices of prompts to be removed\n",
    "indices_to_remove = []\n",
    "\n",
    "# Iterate over each pair of prompts\n",
    "for i in range(len(prompts)):\n",
    "    for j in range(i + 1, len(prompts)):\n",
    "        # If the cosine similarity score is above the threshold, mark the second prompt for removal\n",
    "        if cosine_similarities[i, j] > threshold:\n",
    "            indices_to_remove.append(j)\n",
    "\n",
    "# Remove the similar prompts from the DataFrame\n",
    "df_filtered = df.drop(indices_to_remove)\n",
    "\n",
    "# Save the filtered prompts to a new CSV file\n",
    "output_file = 'filtered_prompts.csv'\n",
    "df_filtered.to_csv(output_file, index=False)\n",
    "\n",
    "print(f\"Filtered prompts saved to {output_file}.\")"
   ]
  }
 ],
 "metadata": {
  "kernelspec": {
   "display_name": "Python 3",
   "language": "python",
   "name": "python3"
  },
  "language_info": {
   "codemirror_mode": {
    "name": "ipython",
    "version": 3
   },
   "file_extension": ".py",
   "mimetype": "text/x-python",
   "name": "python",
   "nbconvert_exporter": "python",
   "pygments_lexer": "ipython3",
   "version": "3.10.4"
  },
  "orig_nbformat": 4
 },
 "nbformat": 4,
 "nbformat_minor": 2
}
